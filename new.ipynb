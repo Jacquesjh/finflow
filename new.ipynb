{
 "cells": [
  {
   "cell_type": "code",
   "execution_count": null,
   "metadata": {},
   "outputs": [],
   "source": [
    "import yfinance as yf\n",
    "\n",
    "from finflow import Pipeline\n",
    "from finflow import filters\n",
    "from finflow import optimizers\n",
    "from finflow import Backtest"
   ]
  },
  {
   "cell_type": "code",
   "execution_count": null,
   "metadata": {},
   "outputs": [],
   "source": [
    "pipeline = Pipeline()\n",
    "\n",
    "pipeline.add(filters.AverageVolume(num_tickers=num_tickers, lookback_weeks=4))\n",
    "pipeline.add(filters.Momentum())\n",
    "pipeline.add(filters.Random())\n",
    "pipeline.add(filters.Sortion(num_tickers=num_tickers))\n",
    "\n",
    "pipeline.optimize(optimzers.HRP(covariance_function=covariance_function, linkage_method=linkage_method))\n",
    "\n",
    "pipeline.run(data=data)"
   ]
  },
  {
   "cell_type": "code",
   "execution_count": null,
   "metadata": {},
   "outputs": [],
   "source": [
    "backtest = Backtest(pipeline=pipeline)\n",
    "\n",
    "backtest.run(data=data, start=datetime(2020, 1, 1), end=datetime.today().date, rebalance_interval=\"weekly\")"
   ]
  },
  {
   "cell_type": "code",
   "execution_count": null,
   "metadata": {},
   "outputs": [],
   "source": [
    "from typing import List\n",
    "\n",
    "from finflow.src.utils.exceptions import InvalidFilter\n",
    "\n",
    "\n",
    "\n",
    "class Pipeline:\n",
    "\n",
    "\n",
    "    filters: List[BaseFilter]\n",
    "\n",
    "\n",
    "    def add(self, filter: BaseFilter) -> None:\n",
    "        if not issubclass(filter, BaseFilter):\n",
    "            raise InvalidFilter(f\"Passed a filter that is not valid.\")\n",
    "\n",
    "        else:\n",
    "            self.filters.append(filter)\n",
    "\n",
    "\n",
    "    def _validate_filters(self) -> None:\n",
    "        pass\n",
    "\n",
    "\n",
    "    def run(ohlc: pd.DataFrame, clean_data: bool = True) -> pd.DataFrame:\n",
    "        if clean_data:\n",
    "            self._clean_data()\n",
    "\n",
    "        self._validate_filters()\n",
    "\n",
    "        data = ohlc.copy()\n",
    "\n",
    "        for filter in self.filters:\n",
    "            data = filter.process()\n",
    "        \n",
    "        portfolio = self.optimizer.process(oplc=data)\n",
    "\n",
    "        return portfolio"
   ]
  },
  {
   "cell_type": "code",
   "execution_count": null,
   "metadata": {},
   "outputs": [],
   "source": [
    "from abc import ABC, abstractmethod\n",
    "\n",
    "\n",
    "class BaseFilter(ABC):\n",
    "\n",
    "\n",
    "    @abstractmethod\n",
    "    def process(self, ohlc: pd.DataFrame) -> pd.DataFrame:\n",
    "        pass\n",
    "\n",
    "\n",
    "class BaseOptimizer(ABC):\n",
    "\n",
    "\n",
    "    @abstractmethod\n",
    "    def process(self, ohlc: pd.DataFrame) -> pd.DataFrame:\n",
    "        pass"
   ]
  }
 ],
 "metadata": {
  "kernelspec": {
   "display_name": "Python 3.10.5 64-bit",
   "language": "python",
   "name": "python3"
  },
  "language_info": {
   "codemirror_mode": {
    "name": "ipython",
    "version": 3
   },
   "file_extension": ".py",
   "mimetype": "text/x-python",
   "name": "python",
   "nbconvert_exporter": "python",
   "pygments_lexer": "ipython3",
   "version": "3.10.5"
  },
  "orig_nbformat": 4,
  "vscode": {
   "interpreter": {
    "hash": "00a7bfaa974edd70b7496800710d5739d7ed553c54df5bbe23e68dc8d57125ac"
   }
  }
 },
 "nbformat": 4,
 "nbformat_minor": 2
}
